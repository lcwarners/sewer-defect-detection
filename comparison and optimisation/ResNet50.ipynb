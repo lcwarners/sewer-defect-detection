{
  "nbformat": 4,
  "nbformat_minor": 0,
  "metadata": {
    "colab": {
      "name": "ResNet50.ipynb",
      "provenance": [],
      "collapsed_sections": []
    },
    "kernelspec": {
      "name": "python3",
      "display_name": "Python 3"
    },
    "language_info": {
      "name": "python"
    },
    "accelerator": "GPU"
  },
  "cells": [
    {
      "cell_type": "code",
      "execution_count": null,
      "metadata": {
        "id": "J1Z2Llb8uzjk"
      },
      "outputs": [],
      "source": [
        "from google.colab import drive\n",
        "drive.mount('/content/drive')"
      ]
    },
    {
      "cell_type": "code",
      "source": [
        "import os\n",
        "os.getcwd()\n",
        "os.chdir(\"/content/drive/MyDrive/ML project 2/\")\n",
        "os.getcwd()"
      ],
      "metadata": {
        "id": "YmX2FBPKu97i"
      },
      "execution_count": null,
      "outputs": []
    },
    {
      "cell_type": "code",
      "source": [
        "import tensorflow as tf\n",
        "device_name = tf.test.gpu_device_name()\n",
        "if device_name != '/device:GPU:0':\n",
        "  raise SystemError('GPU device not found')\n",
        "print('Found GPU at: {}'.format(device_name))"
      ],
      "metadata": {
        "id": "bCtcUHFwvBOc"
      },
      "execution_count": null,
      "outputs": []
    },
    {
      "cell_type": "code",
      "source": [
        "import cv2 as cv\n",
        "import numpy as np\n",
        "from tensorflow import keras\n",
        "from tensorflow.keras.models import Sequential, Model\n",
        "from tensorflow.keras.layers import Activation, Dropout, Input, Dense, Flatten, BatchNormalization, Conv2D, MaxPool2D, AveragePooling2D\n",
        "from tensorflow.keras.optimizers import Adam\n",
        "from tensorflow.keras.metrics import categorical_crossentropy\n",
        "from tensorflow.keras.preprocessing.image import ImageDataGenerator"
      ],
      "metadata": {
        "id": "wBaXDwV9vB8v"
      },
      "execution_count": null,
      "outputs": []
    },
    {
      "cell_type": "code",
      "source": [
        "train_path = \"train_data/train\"\n",
        "valid_path = \"train_data/valid\"\n",
        "test_path = \"train_data/test\""
      ],
      "metadata": {
        "id": "cK9q9N3nvH4A"
      },
      "execution_count": null,
      "outputs": []
    },
    {
      "cell_type": "code",
      "source": [
        "train_batches = ImageDataGenerator(preprocessing_function=tf.keras.applications.resnet50.preprocess_input) \\\n",
        "    .flow_from_directory(directory=train_path, target_size=(224,224), classes=['Fissure', 'Racines', 'Normal'], batch_size=64)\n",
        "\n",
        "valid_batches = ImageDataGenerator(preprocessing_function=tf.keras.applications.resnet50.preprocess_input) \\\n",
        "    .flow_from_directory(directory=valid_path, target_size=(224,224), classes=['Fissure', 'Racines', 'Normal'], batch_size=64)\n",
        "\n",
        "test_batches = ImageDataGenerator(preprocessing_function=tf.keras.applications.resnet50.preprocess_input) \\\n",
        "    .flow_from_directory(directory=test_path, target_size=(224,224), classes=['Fissure', 'Racines', 'Normal'], batch_size=64, shuffle=False)"
      ],
      "metadata": {
        "id": "puQLmPcDvIew"
      },
      "execution_count": null,
      "outputs": []
    },
    {
      "cell_type": "code",
      "source": [
        "resnet50_model = tf.keras.applications.resnet50.ResNet50(include_top=False,input_tensor=Input(shape=(224, 224, 3)))"
      ],
      "metadata": {
        "id": "4ipI-Rr0vYUL"
      },
      "execution_count": null,
      "outputs": []
    },
    {
      "cell_type": "code",
      "source": [
        "resnet50_model.summary()"
      ],
      "metadata": {
        "id": "gwclj5px9jPf"
      },
      "execution_count": null,
      "outputs": []
    },
    {
      "cell_type": "code",
      "source": [
        "top_layers = resnet50_model.output\n",
        "top_layers = Flatten(name=\"top_flattening\")(top_layers)\n",
        "top_layers = Dense(units=1024,activation=\"ReLU\",name=\"first_dense_top\")(top_layers)\n",
        "top_layers = Dropout(0.5,name=\"dropout_top\")(top_layers)\n",
        "top_layers = Dense(units=3, activation=\"softmax\",name=\"linear_output\")(top_layers)"
      ],
      "metadata": {
        "id": "0-ogcJRavs19"
      },
      "execution_count": null,
      "outputs": []
    },
    {
      "cell_type": "code",
      "source": [
        "model = Model(inputs=resnet50_model.input, outputs=top_layers)"
      ],
      "metadata": {
        "id": "DIxPfk0nBMlz"
      },
      "execution_count": null,
      "outputs": []
    },
    {
      "cell_type": "code",
      "source": [
        "for layer in resnet50_model.layers:\n",
        "\tlayer.trainable = False"
      ],
      "metadata": {
        "id": "qE21zCEAKATB"
      },
      "execution_count": null,
      "outputs": []
    },
    {
      "cell_type": "code",
      "source": [
        "learning_rate = np.logspace(-4,-2,4)"
      ],
      "metadata": {
        "id": "SkzqCxydvwnv"
      },
      "execution_count": null,
      "outputs": []
    },
    {
      "cell_type": "code",
      "source": [
        "for lr in learning_rate:\n",
        "  print(\"--------------------\")\n",
        "  print(\"learning rate = \", lr)\n",
        "  print(\"--------------------\")\n",
        "  model.compile(optimizer=Adam(learning_rate=lr), loss='categorical_crossentropy', metrics=['accuracy'])\n",
        "  model.fit(train_batches,\n",
        "            steps_per_epoch=len(train_batches),\n",
        "            validation_data=valid_batches,\n",
        "            validation_steps=len(valid_batches),\n",
        "            epochs=5\n",
        "  )"
      ],
      "metadata": {
        "id": "cmdjQS69v0Mg"
      },
      "execution_count": null,
      "outputs": []
    }
  ]
}