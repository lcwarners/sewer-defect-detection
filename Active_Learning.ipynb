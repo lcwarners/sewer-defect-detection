{
 "cells": [
  {
   "cell_type": "markdown",
   "metadata": {},
   "source": [
    "Import libraries"
   ]
  },
  {
   "cell_type": "code",
   "execution_count": 1,
   "metadata": {},
   "outputs": [],
   "source": [
    "import os\n",
    "import numpy as np\n",
    "import tensorflow as tf\n",
    "from tensorflow import keras\n",
    "from tensorflow.keras.models import Model, save_model, load_model\n",
    "from tensorflow.keras.layers import Dropout, Input, Dense, Flatten\n",
    "from tensorflow.keras.optimizers import Adam\n",
    "from tensorflow.keras.metrics import categorical_crossentropy\n",
    "from tensorflow.keras.preprocessing.image import ImageDataGenerator, load_img, img_to_array, save_img\n",
    "from superintendent.class_labeller import ClassLabeller\n",
    "import matplotlib.pyplot as plt\n",
    "import warnings\n",
    "warnings.simplefilter(action='ignore', category=FutureWarning)\n",
    "%matplotlib inline"
   ]
  },
  {
   "cell_type": "markdown",
   "metadata": {},
   "source": [
    "Define directiories needed"
   ]
  },
  {
   "cell_type": "code",
   "execution_count": 2,
   "metadata": {},
   "outputs": [],
   "source": [
    "main_folder = 'D:/IST/5 ano/1 Semestre/Machine Learning/Project/Part 2/Proj'\n",
    "valid_path = main_folder+'/train_data/valid'\n",
    "test_path = main_folder+'/train_data/test'\n",
    "unlabelled_data_path = main_folder+'/unlabelled_frames'\n",
    "unlabelled_batch_path = main_folder+'/unlabelled'"
   ]
  },
  {
   "cell_type": "markdown",
   "metadata": {},
   "source": [
    "Downloading the model"
   ]
  },
  {
   "cell_type": "code",
   "execution_count": 4,
   "metadata": {},
   "outputs": [],
   "source": [
    "# Downloading the model\n",
    "efficientnet_model = tf.keras.applications.efficientnet.EfficientNetB1(include_top=False,input_tensor=Input(shape=(224, 224, 3)))"
   ]
  },
  {
   "cell_type": "markdown",
   "metadata": {},
   "source": [
    "Setting up the model with pretrained weights"
   ]
  },
  {
   "cell_type": "code",
   "execution_count": 4,
   "metadata": {},
   "outputs": [
    {
     "data": {
      "text/plain": [
       "<tensorflow.python.training.tracking.util.CheckpointLoadStatus at 0x1384a549088>"
      ]
     },
     "execution_count": 4,
     "metadata": {},
     "output_type": "execute_result"
    }
   ],
   "source": [
    "# Transfer learning -> adding the layers including dropout for classification\n",
    "top_layers = efficientnet_model.output\n",
    "top_layers = Flatten(name=\"flatten_top\")(top_layers)\n",
    "top_layers = Dense(1024, activation=\"ReLU\",name=\"first_dense_top\")(top_layers)\n",
    "top_layers = Dropout(0.5, name=\"dropout_top\")(top_layers)\n",
    "top_layers = Dense(units=3, activation=\"softmax\",name=\"linear_output\")(top_layers)\n",
    "\n",
    "# Put it together\n",
    "model = Model(inputs=efficientnet_model.input, outputs=top_layers)\n",
    "\n",
    "#loading the weights\n",
    "cp_dir = main_folder+'/B1_weights'\n",
    "weights = tf.train.latest_checkpoint(cp_dir)\n",
    "model.load_weights(weights)"
   ]
  },
  {
   "cell_type": "code",
   "execution_count": 3,
   "metadata": {},
   "outputs": [
    {
     "name": "stdout",
     "output_type": "stream",
     "text": [
      "Found 700 images belonging to 3 classes.\n",
      "Found 600 images belonging to 3 classes.\n"
     ]
    }
   ],
   "source": [
    "# Generate validation and test batches\n",
    "valid_batches = ImageDataGenerator(preprocessing_function=tf.keras.applications.efficientnet.preprocess_input) \\\n",
    "    .flow_from_directory(directory=valid_path, target_size=(240,240), classes=['Fissure', 'Racines_Extrusion', 'Normal'], batch_size=64)\n",
    "\n",
    "test_batches = ImageDataGenerator(preprocessing_function=tf.keras.applications.efficientnet.preprocess_input) \\\n",
    "    .flow_from_directory(directory=test_path, target_size=(240,240), classes=['Fissure', 'Racines_Extrusion', 'Normal'], batch_size=64, shuffle=False)\n"
   ]
  },
  {
   "cell_type": "markdown",
   "metadata": {},
   "source": [
    "Prioritization score for Active Learning: Entropy"
   ]
  },
  {
   "cell_type": "code",
   "execution_count": 4,
   "metadata": {},
   "outputs": [],
   "source": [
    "# Define function that organizes predictions according to the prioritization score\n",
    "# Prioritization score: Entropy\n",
    "\n",
    "def entropy_score(predictions):\n",
    "    # Substitute any 0 for a small epsilon for numerical stability\n",
    "    new_predict = np.where(predictions!=0, predictions, 10**(-10))\n",
    "    scores = np.zeros(predictions.shape[0])\n",
    "    for i in range(predictions.shape[1]):\n",
    "        scores += -new_predict[:,i]*np.log(new_predict[:,i])\n",
    "    return scores\n",
    "\n"
   ]
  },
  {
   "cell_type": "markdown",
   "metadata": {},
   "source": [
    "# Active Learning"
   ]
  },
  {
   "cell_type": "markdown",
   "metadata": {},
   "source": [
    "Active Learning: cell 0"
   ]
  },
  {
   "cell_type": "code",
   "execution_count": 5,
   "metadata": {},
   "outputs": [],
   "source": [
    "#version = 0\n",
    "learning_rate = np.logspace(-4,-2,4)\n",
    "lr = learning_rate[1]\n",
    "num_batch2label = 100\n",
    "labels_list = ['Fissure', 'Racines_Extrusion', 'Normal', 'Delete from dataset']"
   ]
  },
  {
   "cell_type": "code",
   "execution_count": 10,
   "metadata": {},
   "outputs": [],
   "source": [
    "version = 7"
   ]
  },
  {
   "cell_type": "markdown",
   "metadata": {},
   "source": [
    "Active Learning: cell 1"
   ]
  },
  {
   "cell_type": "code",
   "execution_count": 14,
   "metadata": {},
   "outputs": [
    {
     "name": "stdout",
     "output_type": "stream",
     "text": [
      "Found 7606 images belonging to 1 classes.\n"
     ]
    },
    {
     "name": "stderr",
     "output_type": "stream",
     "text": [
      "WARNING:absl:Found untraced functions such as re_lu_layer_call_fn, re_lu_layer_call_and_return_conditional_losses, re_lu_layer_call_fn, re_lu_layer_call_and_return_conditional_losses, re_lu_layer_call_and_return_conditional_losses while saving (showing 5 of 5). These functions will not be directly callable after loading.\n"
     ]
    },
    {
     "name": "stdout",
     "output_type": "stream",
     "text": [
      "INFO:tensorflow:Assets written to: D:/IST/5 ano/1 Semestre/Machine Learning/Project/Part 2/Proj/Models/Version8\\assets\n"
     ]
    },
    {
     "name": "stderr",
     "output_type": "stream",
     "text": [
      "INFO:tensorflow:Assets written to: D:/IST/5 ano/1 Semestre/Machine Learning/Project/Part 2/Proj/Models/Version8\\assets\n",
      "D:\\Anaconda\\Programa\\envs\\ML3\\lib\\site-packages\\keras\\engine\\functional.py:1410: CustomMaskWarning: Custom mask layers require a config and must override get_config. When loading, the custom mask layer must be passed to the custom_objects argument.\n",
      "  layer_config = serialize_layer_fn(layer)\n",
      "D:\\Anaconda\\Programa\\envs\\ML3\\lib\\site-packages\\keras\\saving\\saved_model\\layer_serialization.py:112: CustomMaskWarning: Custom mask layers require a config and must override get_config. When loading, the custom mask layer must be passed to the custom_objects argument.\n",
      "  return generic_utils.serialize_keras_object(obj)\n"
     ]
    }
   ],
   "source": [
    "# Create list of all the unlabelled frames\n",
    "frames = os.listdir(unlabelled_data_path)\n",
    "if frames != None:\n",
    "    unlabelled_frames = []\n",
    "    os.chdir(unlabelled_data_path)\n",
    "    for frame in frames:\n",
    "        img1 = load_img(frame)\n",
    "        unlabelled_frames.append(img1)\n",
    "    os.chdir('../')\n",
    "\n",
    "    # Unlabelled batch for predictions\n",
    "    unlabelled_batches = ImageDataGenerator(preprocessing_function=tf.keras.applications.efficientnet.preprocess_input) \\\n",
    "        .flow_from_directory(directory=unlabelled_batch_path, target_size=(240,240), classes=None, batch_size=64, shuffle=False)\n",
    "\n",
    "    #generating the predictions\n",
    "    predictions = model.predict(x=unlabelled_batches, steps=len(unlabelled_batches), verbose=0)\n",
    "\n",
    "    # compile the model to be saved\n",
    "    model.compile(optimizer=Adam(learning_rate=lr), loss='categorical_crossentropy', metrics=['accuracy'])\n",
    "\n",
    "    # Save model to directory\n",
    "    if os.path.isdir('Models') is False:\n",
    "        os.makedirs('Models')\n",
    "    if os.path.isdir('Models/Version'+str(version)) is False:\n",
    "        os.makedirs('Models/Version'+str(version))    \n",
    "    model_path = main_folder+'/Models/Version'+str(version)\n",
    "    save_model(model, model_path)\n",
    "    # Delete previous models\n",
    "    # if version > 0:\n",
    "    #     os.rmdir(main_folder+'/Models/Version'+str(version-1))\n",
    "    version += 1\n",
    "\n",
    "    # Select images to be labelled according to the prioritizarion score\n",
    "    scores = entropy_score(predictions)\n",
    "    ind = np.argpartition(scores, -num_batch2label)[-num_batch2label:]\n",
    "    batch2label = []\n",
    "    img_in_dir = os.listdir(unlabelled_batch_path+'/unlabelled_frames')\n",
    "    os.chdir(unlabelled_batch_path+'/unlabelled_frames')\n",
    "    for ii in ind:\n",
    "        batch2label.append(unlabelled_frames[ii])\n",
    "        # Removing those images from the unlabelled directory\n",
    "        os.remove(img_in_dir[ii])\n",
    "        \n",
    "    os.chdir('../../')\n",
    "\n",
    "    # Creating the widgets to easily label the data\n",
    "    widgets = ClassLabeller(features = batch2label, options = labels_list)\n",
    "\n",
    "\n"
   ]
  },
  {
   "cell_type": "markdown",
   "metadata": {},
   "source": [
    "Active Learning: cell 2 \n",
    "\n",
    "Label the selected images"
   ]
  },
  {
   "cell_type": "code",
   "execution_count": 15,
   "metadata": {},
   "outputs": [
    {
     "data": {
      "application/vnd.jupyter.widget-view+json": {
       "model_id": "d2f98b4b9cfa4f3c845606240ef2b7fb",
       "version_major": 2,
       "version_minor": 0
      },
      "text/plain": [
       "ClassLabeller(children=(HBox(children=(FloatProgress(value=0.0, description='Progress:', max=1.0),)), Box(chil…"
      ]
     },
     "metadata": {},
     "output_type": "display_data"
    }
   ],
   "source": [
    "widgets"
   ]
  },
  {
   "cell_type": "markdown",
   "metadata": {},
   "source": [
    "Active Learning: cell 3\n",
    "\n",
    "Further train the model with the newly labelled data"
   ]
  },
  {
   "cell_type": "code",
   "execution_count": 16,
   "metadata": {},
   "outputs": [
    {
     "name": "stdout",
     "output_type": "stream",
     "text": [
      "Found 1027 images belonging to 3 classes.\n",
      "Epoch 1/5\n",
      "17/17 [==============================] - 384s 20s/step - loss: 0.2878 - accuracy: 0.9367 - val_loss: 9.8688 - val_accuracy: 0.6100\n",
      "Epoch 2/5\n",
      "17/17 [==============================] - 339s 20s/step - loss: 0.2109 - accuracy: 0.9377 - val_loss: 13.3655 - val_accuracy: 0.5971\n",
      "Epoch 3/5\n",
      "17/17 [==============================] - 317s 19s/step - loss: 0.1883 - accuracy: 0.9455 - val_loss: 14.3424 - val_accuracy: 0.5714\n",
      "Epoch 4/5\n",
      "17/17 [==============================] - 306s 18s/step - loss: 0.1803 - accuracy: 0.9640 - val_loss: 12.9844 - val_accuracy: 0.5843\n",
      "Epoch 5/5\n",
      "17/17 [==============================] - 304s 18s/step - loss: 0.1625 - accuracy: 0.9601 - val_loss: 9.7836 - val_accuracy: 0.5957\n"
     ]
    },
    {
     "data": {
      "text/plain": [
       "<keras.callbacks.History at 0x22fe841e1c8>"
      ]
     },
     "execution_count": 16,
     "metadata": {},
     "output_type": "execute_result"
    }
   ],
   "source": [
    "# # Create new training data from newly labelled data\n",
    "if os.path.isdir('new_train_data') is False:\n",
    "    os.makedirs('new_train_data')\n",
    "    os.makedirs('new_train_data/Fissure')\n",
    "    os.makedirs('new_train_data/Racines_Extrusion')\n",
    "    os.makedirs('new_train_data/Normal')\n",
    "\n",
    "i = 0\n",
    "for label in widgets.new_labels:\n",
    "    if label == 'Delete from dataset':\n",
    "       batch2label.remove(batch2label[i])\n",
    "    else:\n",
    "        name = main_folder+'/new_train_data/'+label+'/'+label+str(ind[i])+'.jpg'\n",
    "        save_img(name, batch2label[i])\n",
    "        i += 1\n",
    "\n",
    "new_train_path = main_folder+'/new_train_data'\n",
    "new_train_batch = ImageDataGenerator(preprocessing_function=tf.keras.applications.efficientnet.preprocess_input) \\\n",
    "    .flow_from_directory(directory=new_train_path, target_size=(240,240), classes=['Fissure', 'Racines_Extrusion', 'Normal'], batch_size=64)\n",
    "\n",
    "# Load previously trained model\n",
    "model = load_model(model_path)\n",
    "\n",
    "# Further train the model with the newly labelled data\n",
    "model.fit(new_train_batch,\n",
    "          steps_per_epoch=len(new_train_batch),\n",
    "          validation_data=valid_batches,\n",
    "          validation_steps=len(valid_batches),\n",
    "          epochs=5,\n",
    ")"
   ]
  },
  {
   "cell_type": "markdown",
   "metadata": {},
   "source": [
    "You may now rerun cells 1, 2 and 3 (in order) to continue labelling and training the model"
   ]
  },
  {
   "cell_type": "code",
   "execution_count": null,
   "metadata": {},
   "outputs": [],
   "source": []
  }
 ],
 "metadata": {
  "interpreter": {
   "hash": "e0e87332fe2ef85c2edd7013116d7d107ce9cdb0dcbb6d20afc5f0fe2d53a9a3"
  },
  "kernelspec": {
   "display_name": "Python 3.7.11 64-bit ('ML3': conda)",
   "language": "python",
   "name": "python3"
  },
  "language_info": {
   "codemirror_mode": {
    "name": "ipython",
    "version": 3
   },
   "file_extension": ".py",
   "mimetype": "text/x-python",
   "name": "python",
   "nbconvert_exporter": "python",
   "pygments_lexer": "ipython3",
   "version": "3.7.11"
  },
  "orig_nbformat": 4
 },
 "nbformat": 4,
 "nbformat_minor": 2
}
