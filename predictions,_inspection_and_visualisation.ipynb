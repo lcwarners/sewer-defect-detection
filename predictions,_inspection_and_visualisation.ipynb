{
  "nbformat": 4,
  "nbformat_minor": 0,
  "metadata": {
    "colab": {
      "name": "predictions, inspection and visualisation.ipynb",
      "provenance": [],
      "collapsed_sections": []
    },
    "kernelspec": {
      "name": "python3",
      "display_name": "Python 3"
    },
    "language_info": {
      "name": "python"
    }
  },
  "cells": [
    {
      "cell_type": "code",
      "execution_count": null,
      "metadata": {
        "id": "V5NIgT_hfhQo"
      },
      "outputs": [],
      "source": [
        "from google.colab import drive\n",
        "drive.mount('/content/drive', force_remount=True)"
      ]
    },
    {
      "cell_type": "code",
      "source": [
        "import os\n",
        "os.chdir(\"/content/drive/MyDrive/ML project 2/\")\n",
        "os.getcwd()"
      ],
      "metadata": {
        "id": "HHXXVYX-gDHN"
      },
      "execution_count": null,
      "outputs": []
    },
    {
      "cell_type": "code",
      "source": [
        "#use GPU insofar possible\n",
        "import tensorflow as tf\n",
        "device_name = tf.test.gpu_device_name()\n",
        "if device_name != '/device:GPU:0':\n",
        "  raise SystemError('GPU device not found')\n",
        "print('Found GPU at: {}'.format(device_name))"
      ],
      "metadata": {
        "id": "tPScTqB4gHAP"
      },
      "execution_count": null,
      "outputs": []
    },
    {
      "cell_type": "code",
      "source": [
        "import cv2 as cv\n",
        "import numpy as np\n",
        "import tensorflow as tf\n",
        "from tensorflow import keras\n",
        "from tensorflow.keras.models import Sequential, Model\n",
        "from tensorflow.keras.layers import Activation, Dropout, Input, Dense, Flatten, BatchNormalization, Conv2D, MaxPool2D, AveragePooling2D\n",
        "from tensorflow.keras.optimizers import Adam\n",
        "from tensorflow.keras.metrics import categorical_crossentropy\n",
        "from tensorflow.keras.preprocessing.image import ImageDataGenerator, load_img\n",
        "import itertools\n",
        "from sklearn.metrics import confusion_matrix\n",
        "import matplotlib.pyplot as plt\n",
        "import warnings\n",
        "warnings.simplefilter(action='ignore', category=FutureWarning)\n",
        "%matplotlib inline"
      ],
      "metadata": {
        "id": "nE_6M8YGgMIh"
      },
      "execution_count": null,
      "outputs": []
    },
    {
      "cell_type": "code",
      "source": [
        "#find data sets. note these are not made public due to confidential nature.\n",
        "train_path = \"train_data/train\"\n",
        "valid_path = \"train_data/valid\"\n",
        "test_path = \"train_data/test\""
      ],
      "metadata": {
        "id": "ch-P-C91gTNj"
      },
      "execution_count": null,
      "outputs": []
    },
    {
      "cell_type": "code",
      "source": [
        "#generate the batches that were also used for training.\n",
        "train_batches = ImageDataGenerator(preprocessing_function=tf.keras.applications.efficientnet.preprocess_input) \\\n",
        "    .flow_from_directory(directory=train_path, target_size=(224,224), classes=['Fissure', 'Racines', 'Normal'], batch_size=64)\n",
        "\n",
        "valid_batches = ImageDataGenerator(preprocessing_function=tf.keras.applications.efficientnet.preprocess_input) \\\n",
        "    .flow_from_directory(directory=valid_path, target_size=(224,224), classes=['Fissure', 'Racines', 'Normal'], batch_size=64)\n",
        "\n",
        "test_batches = ImageDataGenerator(preprocessing_function=tf.keras.applications.efficientnet.preprocess_input) \\\n",
        "    .flow_from_directory(directory=test_path, target_size=(224,224), classes=['Fissure', 'Racines', 'Normal'], batch_size=64, shuffle=False)"
      ],
      "metadata": {
        "id": "ox2bcaX8gVPF"
      },
      "execution_count": null,
      "outputs": []
    },
    {
      "cell_type": "code",
      "source": [
        "#the three following cells are used to recreate the model for which the weights were calculated\n",
        "efficientnet_model = tf.keras.applications.efficientnet.EfficientNetB1(include_top=False,input_tensor=Input(shape=(224, 224, 3)))"
      ],
      "metadata": {
        "id": "gIB2b2iVUMyQ"
      },
      "execution_count": null,
      "outputs": []
    },
    {
      "cell_type": "code",
      "source": [
        "top_layers = efficientnet_model.output\n",
        "top_layers = Flatten(name=\"flatten_top\")(top_layers)\n",
        "top_layers = Dense(1024, activation=\"ReLU\",name=\"first_dense_top\")(top_layers)\n",
        "top_layers = Dropout(0.5, name=\"dropout_top\")(top_layers)\n",
        "top_layers = Dense(units=3, activation=\"softmax\",name=\"linear_output\")(top_layers)"
      ],
      "metadata": {
        "id": "h89xT_idUbS0"
      },
      "execution_count": null,
      "outputs": []
    },
    {
      "cell_type": "code",
      "source": [
        "model = Model(inputs=efficientnet_model.input, outputs=top_layers)"
      ],
      "metadata": {
        "id": "ATqnun2BUb_M"
      },
      "execution_count": null,
      "outputs": []
    },
    {
      "cell_type": "code",
      "source": [
        "#loading the weights\n",
        "cp_dir = \"training\"\n",
        "weights = tf.train.latest_checkpoint(cp_dir)\n",
        "model.load_weights(weights)"
      ],
      "metadata": {
        "id": "fVl6u4pHUieb"
      },
      "execution_count": null,
      "outputs": []
    },
    {
      "cell_type": "code",
      "source": [
        "#generating the predictions\n",
        "predictions = model.predict(x=test_batches, steps=len(test_batches), verbose=0)"
      ],
      "metadata": {
        "id": "wvr6VmocRdiL"
      },
      "execution_count": null,
      "outputs": []
    },
    {
      "cell_type": "code",
      "source": [
        "#function for the confusion matrix\n",
        "def plot_confusion_matrix(cm, classes,\n",
        "                          normalize=False,\n",
        "                          title='Confusion matrix',\n",
        "                          cmap=plt.cm.Blues):\n",
        "  \n",
        "    plt.imshow(cm, interpolation='nearest', cmap=cmap)\n",
        "    plt.title(title)\n",
        "    plt.colorbar()\n",
        "    tick_marks = np.arange(len(classes))\n",
        "    plt.xticks(tick_marks, classes, rotation=45)\n",
        "    plt.yticks(tick_marks, classes)\n",
        "\n",
        "    if normalize:\n",
        "        cm = cm.astype('float') / cm.sum(axis=1)[:, np.newaxis]\n",
        "        print(\"Normalized confusion matrix\")\n",
        "    else:\n",
        "        print('Confusion matrix, without normalization')\n",
        "\n",
        "    print(cm)\n",
        "\n",
        "    thresh = cm.max() / 2.\n",
        "    for i, j in itertools.product(range(cm.shape[0]), range(cm.shape[1])):\n",
        "        plt.text(j, i, cm[i, j],\n",
        "            horizontalalignment=\"center\",\n",
        "            color=\"white\" if cm[i, j] > thresh else \"black\")\n",
        "\n",
        "    plt.tight_layout()\n",
        "    plt.ylabel('True label')\n",
        "    plt.xlabel('Predicted label')"
      ],
      "metadata": {
        "id": "Kkfs76uoRj_y"
      },
      "execution_count": null,
      "outputs": []
    },
    {
      "cell_type": "code",
      "source": [
        "#plot the confusion matrix\n",
        "cm = confusion_matrix(y_true=test_batches.classes, y_pred=np.argmax(predictions, axis=-1))\n",
        "cm_plot_labels = ['Fissure','Racines', 'Normal']\n",
        "plot_confusion_matrix(cm=cm, classes=cm_plot_labels, title='Confusion Matrix')"
      ],
      "metadata": {
        "id": "osqcw3IURk9A"
      },
      "execution_count": null,
      "outputs": []
    },
    {
      "cell_type": "code",
      "source": [
        "import numpy as np\n",
        "from IPython.display import Image, display\n",
        "\n",
        "#calculate the accuracy of the model on the test set\n",
        "y_true = test_batches.classes \n",
        "y_pred = np.argmax(predictions, axis=-1)\n",
        "accuracy = (sum(y_true==y_pred)/len(y_true))\n",
        "print(\"the accuracy is\", accuracy)\n",
        "\n",
        "#find the indices of the wrongly classified images\n",
        "mistake = (y_pred!=y_true)\n",
        "indices = tf.where(mistake)\n",
        "proto_indices = tf.make_tensor_proto(indices)\n",
        "indices = tf.make_ndarray(proto_indices)\n",
        "\n",
        "#display the wrongly classified images\n",
        "for ii in indices:\n",
        "  if ii<200:\n",
        "    image = os.listdir(\"Fissure\")[ii[0]]\n",
        "    display(Image(\"Fissure/\"+image))\n",
        "\n",
        "  elif ii<300:\n",
        "    image = os.listdir(\"Racines\")[ii[0]-200]\n",
        "    display(Image(\"Racines/\"+image))\n",
        "\n",
        "  elif ii>=300:\n",
        "    image = os.listdir(\"Normal\")[ii[0]-300]\n",
        "    display(Image(\"Normal/\"+image))"
      ],
      "metadata": {
        "id": "5gl5OwgoaIrc"
      },
      "execution_count": null,
      "outputs": []
    }
  ]
}